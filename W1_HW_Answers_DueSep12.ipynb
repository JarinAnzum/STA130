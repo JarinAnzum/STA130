{
 "cells": [
  {
   "cell_type": "markdown",
   "id": "92278a26",
   "metadata": {},
   "source": [
    "### Question 1 (Choosing A Dataset: Flight Delay Causes Data)"
   ]
  },
  {
   "cell_type": "code",
   "execution_count": 32,
   "id": "2c468743",
   "metadata": {},
   "outputs": [
    {
     "data": {
      "text/plain": [
       "Year                     0\n",
       "Month                    0\n",
       "DayofMonth               0\n",
       "DayOfWeek                0\n",
       "DepTime               1142\n",
       "CRSDepTime               0\n",
       "ArrTime               1302\n",
       "CRSArrTime               0\n",
       "UniqueCarrier            0\n",
       "FlightNum                0\n",
       "TailNum               1142\n",
       "ActualElapsedTime     1302\n",
       "CRSElapsedTime           0\n",
       "AirTime               1302\n",
       "ArrDelay              1302\n",
       "DepDelay              1142\n",
       "Origin                   0\n",
       "Dest                     0\n",
       "Distance                 0\n",
       "TaxiIn                1302\n",
       "TaxiOut               1142\n",
       "Cancelled                0\n",
       "CancellationCode     98858\n",
       "Diverted                 0\n",
       "CarrierDelay         80371\n",
       "WeatherDelay         80371\n",
       "NASDelay             80371\n",
       "SecurityDelay        80371\n",
       "LateAircraftDelay    80371\n",
       "dtype: int64"
      ]
     },
     "execution_count": 32,
     "metadata": {},
     "output_type": "execute_result"
    }
   ],
   "source": [
    "import pandas as pd\n",
    "\n",
    "url = 'https://raw.githubusercontent.com/roberthryniewicz/datasets/master/airline-dataset/flights/flights.csv'\n",
    "df = pd.read_csv(url)\n",
    "df.isna().sum()"
   ]
  },
  {
   "cell_type": "markdown",
   "id": "31972b0d",
   "metadata": {},
   "source": [
    "##### Link to ChatBot Session: https://chatgpt.com/share/478b61b8-fb4f-4f67-a2e8-778c6f08eb79\n",
    "\n",
    "##### Summary of ChatBot Session:\n",
    "Here is a summary of our exchanges:\n",
    "\n",
    "1. Request for a flight dataset with missing values: You asked for an amusing or interesting dataset about flight information that includes missing values and is available online. I provided two datasets:\n",
    "One from Kaggle, which contains flight delays and cancellations from 2015, available here​(\n",
    "Kaggle\n",
    ").\n",
    "Another from GitHub, featuring flight information that also includes some missing values, available here​(\n",
    "GitHub\n",
    ").\n",
    "\n",
    "2. Loading the Kaggle Dataset in Jupyter Notebook: I outlined steps on how to load the dataset from Kaggle using the kaggle API. The steps involved:\n",
    "Installing the kaggle package.\n",
    "Downloading the API token.\n",
    "Downloading the dataset using the Kaggle API.\n",
    "Unzipping and loading the data using pandas.\n",
    "\n",
    "3. Loading the GitHub Dataset in Jupyter Notebook: I also provided steps on how to load the GitHub flight dataset directly into pandas:\n",
    "Accessing the dataset via the raw URL from GitHub.\n",
    "Using pandas’ read_csv() function to load the data directly into your notebook.\n",
    "\n",
    "These steps were tailored for easy integration into a Jupyter notebook to work with the flight data."
   ]
  },
  {
   "cell_type": "markdown",
   "id": "36802367",
   "metadata": {},
   "source": [
    "### Question 2 "
   ]
  },
  {
   "cell_type": "code",
   "execution_count": 33,
   "id": "2d6263a8",
   "metadata": {},
   "outputs": [
    {
     "name": "stdout",
     "output_type": "stream",
     "text": [
      "Number of rows: 100000\n",
      "Number of columns: 29\n"
     ]
    }
   ],
   "source": [
    "# Get the number of rows and columns\n",
    "rows, columns = df.shape\n",
    "\n",
    "# Display the result\n",
    "print(f\"Number of rows: {rows}\")\n",
    "print(f\"Number of columns: {columns}\")"
   ]
  },
  {
   "cell_type": "markdown",
   "id": "c09be54e",
   "metadata": {},
   "source": [
    "Observation refers to an individual data entry in a data set. In a data frame, each row represents a single observation. \n",
    "\n",
    "In the context of flight data: Each row corresponds to a specific flight.\n",
    "\n",
    "Variable refers to a measurable attribute for each observation. Variables can be quantitative (numerical), or qualitative (categorical).\n",
    "\n",
    "In the context of flight data: Each column represents a variable. Some relevant variables include flight date, airline, origin airport, etc."
   ]
  },
  {
   "cell_type": "markdown",
   "id": "1c704a42",
   "metadata": {},
   "source": [
    "##### Link to ChatBot Session: https://chatgpt.com/share/d93eeb90-0a52-4e57-bae1-5bd676e2c588\n",
    "\n",
    "##### Summary of ChatBot Session:\n",
    "\n",
    "1. Dataset Introduction and Code Request:\n",
    "You provided a link to a dataset related to airline flights and asked for code to determine the number of rows and columns in a pandas DataFrame.\n",
    "I provided a Python code snippet using df.shape to extract and print the number of rows and columns in the DataFrame.\n",
    "I explained that df.shape returns a tuple where the first value represents the number of rows (observations) and the second value represents the number of columns (variables).\n",
    "\n",
    "2. Explanation of Rows and Columns:\n",
    "You inquired about the line rows, columns = df.shape.\n",
    "I explained that df.shape returns a tuple, and this line unpacks the tuple into two variables: rows for the number of rows (observations) and columns for the number of columns (variables).\n",
    "\n",
    "4. Definition of \"Observations\":\n",
    "You asked for a definition of the term \"observations\" in the context of the dataset.\n",
    "I explained that each row in the dataset represents an observation, which in this case corresponds to a specific flight. Observations are individual records in the dataset, each capturing data for a unique instance (e.g., a flight).\n",
    "\n",
    "3. Definition of \"Variables\" and Elaboration:\n",
    "You asked for a definition of \"variables\" based on the dataset and clarification of what \"attributes\" mean.\n",
    "I explained that variables represent the columns in the dataset, each capturing a specific feature or characteristic of the observation (e.g., flight date, airline, departure time). I also explained that \"attributes\" are essentially the same as variables—features that describe the observations.\n",
    "I elaborated that variables can be categorized into two types:\n",
    "Quantitative (numerical) variables, like flight duration or arrival delay.\n",
    "Qualitative (categorical) variables, like the airline or flight status.\n",
    "\n",
    "This summary captures the key points and definitions related to the terms \"observations\" and \"variables,\" along with Python code for analyzing a dataset in pandas."
   ]
  },
  {
   "cell_type": "markdown",
   "id": "6f57c0d6",
   "metadata": {},
   "source": [
    "### Question 3"
   ]
  },
  {
   "cell_type": "code",
   "execution_count": 34,
   "id": "3bc6c348",
   "metadata": {},
   "outputs": [
    {
     "name": "stdout",
     "output_type": "stream",
     "text": [
      "   Year  Month  DayofMonth  DayOfWeek  DepTime  CRSDepTime  ArrTime  \\\n",
      "0  2008      1           3          4   2003.0        1955   2211.0   \n",
      "1  2008      1           3          4    754.0         735   1002.0   \n",
      "2  2008      1           3          4    628.0         620    804.0   \n",
      "3  2008      1           3          4    926.0         930   1054.0   \n",
      "4  2008      1           3          4   1829.0        1755   1959.0   \n",
      "\n",
      "   CRSArrTime UniqueCarrier  FlightNum  ... TaxiIn  TaxiOut  Cancelled  \\\n",
      "0        2225            WN        335  ...    4.0      8.0          0   \n",
      "1        1000            WN       3231  ...    5.0     10.0          0   \n",
      "2         750            WN        448  ...    3.0     17.0          0   \n",
      "3        1100            WN       1746  ...    3.0      7.0          0   \n",
      "4        1925            WN       3920  ...    3.0     10.0          0   \n",
      "\n",
      "   CancellationCode  Diverted  CarrierDelay WeatherDelay NASDelay  \\\n",
      "0               NaN         0           NaN          NaN      NaN   \n",
      "1               NaN         0           NaN          NaN      NaN   \n",
      "2               NaN         0           NaN          NaN      NaN   \n",
      "3               NaN         0           NaN          NaN      NaN   \n",
      "4               NaN         0           2.0          0.0      0.0   \n",
      "\n",
      "   SecurityDelay  LateAircraftDelay  \n",
      "0            NaN                NaN  \n",
      "1            NaN                NaN  \n",
      "2            NaN                NaN  \n",
      "3            NaN                NaN  \n",
      "4            0.0               32.0  \n",
      "\n",
      "[5 rows x 29 columns]\n",
      "            Year     Month     DayofMonth      DayOfWeek       DepTime  \\\n",
      "count   100000.0  100000.0  100000.000000  100000.000000  98858.000000   \n",
      "unique       NaN       NaN            NaN            NaN           NaN   \n",
      "top          NaN       NaN            NaN            NaN           NaN   \n",
      "freq         NaN       NaN            NaN            NaN           NaN   \n",
      "mean      2008.0       1.0      17.087860       3.890040   1355.200722   \n",
      "std          0.0       0.0       8.356364       1.952999    464.089632   \n",
      "min       2008.0       1.0       1.000000       1.000000      1.000000   \n",
      "25%       2008.0       1.0      10.000000       2.000000    942.000000   \n",
      "50%       2008.0       1.0      17.000000       4.000000   1344.000000   \n",
      "75%       2008.0       1.0      24.000000       5.000000   1743.000000   \n",
      "max       2008.0       1.0      31.000000       7.000000   2359.000000   \n",
      "\n",
      "           CRSDepTime       ArrTime     CRSArrTime UniqueCarrier  \\\n",
      "count   100000.000000  98698.000000  100000.000000        100000   \n",
      "unique            NaN           NaN            NaN             2   \n",
      "top               NaN           NaN            NaN            WN   \n",
      "freq              NaN           NaN            NaN         94055   \n",
      "mean      1341.989400   1492.739225    1502.601540           NaN   \n",
      "std        451.356984    496.376794     478.100216           NaN   \n",
      "min        600.000000      1.000000       5.000000           NaN   \n",
      "25%        940.000000   1114.000000    1120.000000           NaN   \n",
      "50%       1335.000000   1518.000000    1520.000000           NaN   \n",
      "75%       1730.000000   1913.000000    1910.000000           NaN   \n",
      "max       2235.000000   2400.000000    2355.000000           NaN   \n",
      "\n",
      "            FlightNum  ...        TaxiIn       TaxiOut      Cancelled  \\\n",
      "count   100000.000000  ...  98698.000000  98858.000000  100000.000000   \n",
      "unique            NaN  ...           NaN           NaN            NaN   \n",
      "top               NaN  ...           NaN           NaN            NaN   \n",
      "freq              NaN  ...           NaN           NaN            NaN   \n",
      "mean      1510.648540  ...      4.768962     10.927765       0.011420   \n",
      "std       1186.128598  ...      2.983635      5.989580       0.106253   \n",
      "min          1.000000  ...      1.000000      1.000000       0.000000   \n",
      "25%        502.000000  ...      3.000000      8.000000       0.000000   \n",
      "50%       1320.000000  ...      4.000000      9.000000       0.000000   \n",
      "75%       2362.000000  ...      5.000000     12.000000       0.000000   \n",
      "max       7676.000000  ...    213.000000    150.000000       1.000000   \n",
      "\n",
      "        CancellationCode       Diverted  CarrierDelay  WeatherDelay  \\\n",
      "count               1142  100000.000000  19629.000000  19629.000000   \n",
      "unique                 3            NaN           NaN           NaN   \n",
      "top                    A            NaN           NaN           NaN   \n",
      "freq                 683            NaN           NaN           NaN   \n",
      "mean                 NaN       0.001600      9.573488      2.036120   \n",
      "std                  NaN       0.039968     21.836836     13.815868   \n",
      "min                  NaN       0.000000      0.000000      0.000000   \n",
      "25%                  NaN       0.000000      0.000000      0.000000   \n",
      "50%                  NaN       0.000000      1.000000      0.000000   \n",
      "75%                  NaN       0.000000     11.000000      0.000000   \n",
      "max                  NaN       1.000000    431.000000    267.000000   \n",
      "\n",
      "            NASDelay  SecurityDelay  LateAircraftDelay  \n",
      "count   19629.000000   19629.000000       19629.000000  \n",
      "unique           NaN            NaN                NaN  \n",
      "top              NaN            NaN                NaN  \n",
      "freq             NaN            NaN                NaN  \n",
      "mean        8.353151       0.110805          29.343675  \n",
      "std        18.826087       1.724888          39.753529  \n",
      "min         0.000000       0.000000           0.000000  \n",
      "25%         0.000000       0.000000           1.000000  \n",
      "50%         0.000000       0.000000          18.000000  \n",
      "75%        10.000000       0.000000          37.000000  \n",
      "max       366.000000      88.000000         434.000000  \n",
      "\n",
      "[11 rows x 29 columns]\n",
      "Cancelled\n",
      "0    98858\n",
      "1     1142\n",
      "Name: count, dtype: int64\n"
     ]
    }
   ],
   "source": [
    "# Display the first few rows of the dataset\n",
    "print(df.head())\n",
    "\n",
    "# Generate basic summary statistics of the dataset\n",
    "summary = df.describe(include='all')\n",
    "\n",
    "# Count the occurrences of each unique value in the 'Cancelled' column\n",
    "cancelled_value_counts = df['Cancelled'].value_counts()\n",
    "\n",
    "# Display the summary statistics\n",
    "print(summary)\n",
    "print(cancelled_value_counts)\n"
   ]
  },
  {
   "cell_type": "markdown",
   "id": "6283ae0a",
   "metadata": {},
   "source": [
    "##### Link to ChatBot Session: https://chatgpt.com/share/cc36c710-2843-493f-887a-d9783f2c4fff\n",
    "\n",
    "##### Summary of ChatBot Session (Note that the value_counts code has been modified to check the 'Cancelled' variable instead of the 'Airline' variable like the ChatBot provided):\n",
    "\n",
    "\n",
    "In this session, the goal was to explore a dataset and generate summaries of its columns for a project. The dataset in question was related to flights, and although there was an attempt to load the dataset from an external URL, there were technical difficulties preventing this from being done in the current environment.\n",
    "\n",
    "To overcome this, I provided a sample dataset and demonstrated the following key methods using Python and pandas:\n",
    "\n",
    "1. df.describe():\n",
    "This method was used to generate summary statistics for numerical columns of the dataset, such as the count, mean, standard deviation, minimum, maximum, and percentiles.\n",
    "The summary helps to understand the central tendency, dispersion, and shape of the data distribution.\n",
    "\n",
    "2. df['column'].value_counts():\n",
    "This method was used to count the frequency of unique values in a specific column (in this case, the \"Airline\" column). It provided a quick way to analyze categorical data and understand how often each category occurs.\n",
    "\n",
    "Additionally, I provided the code for both methods and explained their functionality in detail. The code can be adapted to any dataset for similar analysis. These methods are fundamental tools in exploratory data analysis (EDA) to gain insights into the data's structure and content."
   ]
  },
  {
   "cell_type": "markdown",
   "id": "15a7cc30",
   "metadata": {},
   "source": [
    "### Question 4"
   ]
  },
  {
   "cell_type": "markdown",
   "id": "2e561778",
   "metadata": {},
   "source": [
    "<code>df.shape</code> returns the total number of rows and columns in a data set. This includes all columns, whether they are numeric or non-numeric.\n",
    "\n",
    "<code>df.describe()</code> returns a summary of all numeric columns. To include non-numeric columns, it must be specified with argument include such as <code>df.describe(include='all'))</code>. <code>df.describe()</code> also ignores any missing values when calculating summary statistics like count, mean, max and min.\n",
    "\n",
    "The discrepancy: The number of columns analyzed by <code>df.describe()</code> will be less than the number returned by <code>df.shape</code> unless otherwise specifed."
   ]
  },
  {
   "cell_type": "markdown",
   "id": "104fe821",
   "metadata": {},
   "source": [
    "##### Link to ChatBot Session: https://chatgpt.com/share/30b65a8d-2ef3-4ca5-bcc1-b237cf3e4bcf\n",
    "\n",
    "##### Summary of ChatBot Session:\n",
    "\n",
    "1. Non-Numeric Variables and Missing Values in Numeric Variables:\n",
    "We discussed how discrepancies between df.shape and df.describe() occur when a dataset contains non-numeric variables and missing values in numeric variables.\n",
    "df.shape reports the total number of rows and columns in the dataset, regardless of their data types or whether there are missing values.\n",
    "df.describe(), by default, only analyzes numeric columns. This results in fewer columns being analyzed compared to what is reported by df.shape.\n",
    "In addition, the \"count\" value in df.describe() reflects only non-missing (valid) numeric values, meaning that columns with missing values have a lower \"count\" compared to the total row count reported by df.shape.\n",
    "\n",
    "2. Explanation of df.describe():\n",
    "We explored the purpose and function of the df.describe() method in pandas.\n",
    "By default, df.describe() provides summary statistics for numeric columns, including count, mean, standard deviation, min, max, and percentiles.\n",
    "For non-numeric columns (if specified with include='all'), it reports count, unique values, top value (mode), and frequency.\n",
    "We also covered the additional parameters like include and exclude, which allow you to customize the type of columns analyzed in the summary."
   ]
  },
  {
   "cell_type": "markdown",
   "id": "8e5301cc",
   "metadata": {},
   "source": [
    "### Question 5"
   ]
  },
  {
   "cell_type": "markdown",
   "id": "310d406b",
   "metadata": {},
   "source": [
    "Attributes are the properties of an object. You can access information about an object's properties by calling:"
   ]
  },
  {
   "cell_type": "code",
   "execution_count": 35,
   "id": "7c7f6568",
   "metadata": {},
   "outputs": [],
   "source": [
    "#object_name.attribute_name \n",
    "\n",
    "# Just an example. Notice that there are NO parentheses."
   ]
  },
  {
   "cell_type": "markdown",
   "id": "7ba3e8b9",
   "metadata": {},
   "source": [
    "In the context of <code>df.shape</code>, <code>df</code> is the object, and <code>shape</code> is the attribute being returned.\n",
    "\n",
    "Methods, on the other hand, are functions that perform certain actions. In the <code>pandas</code> library, the <code>describe()</code> function is defined. Methods are called with:"
   ]
  },
  {
   "cell_type": "code",
   "execution_count": 36,
   "id": "015f1d1d",
   "metadata": {},
   "outputs": [],
   "source": [
    "#object_name.method_name() \n",
    "\n",
    "# Just an example. Notice that there ARE parentheses."
   ]
  },
  {
   "cell_type": "markdown",
   "id": "5d8086c1",
   "metadata": {},
   "source": [
    "In the context of <code>df.describe()</code>, <code>df</code> is the object, and <code>describe()</code> is the method being called."
   ]
  },
  {
   "cell_type": "markdown",
   "id": "c2c86d66",
   "metadata": {},
   "source": [
    "##### Link to ChatBot Session: https://chatgpt.com/share/a1c80a14-cbcf-44f9-9f21-1dfd4291b021\n",
    "\n",
    "##### Summary of ChatBot Session: \n",
    "1. Difference Between Attribute and Method in Python:\n",
    "I explained that an attribute holds information about an object (e.g., df.shape returns the dimensions of a DataFrame without parentheses), while a method performs an action (e.g., df.describe() calculates and returns summary statistics and is called with parentheses).\n",
    "\n",
    "2. What is a Pandas DataFrame?:\n",
    "I described a pandas DataFrame as a two-dimensional, labeled data structure similar to an Excel sheet or SQL table. It organizes data into rows and columns, allowing for flexible data manipulation and analysis, with heterogeneous data types for different columns. I also provided an example DataFrame.\n",
    "\n",
    "3. describe() Method in a Pandas DataFrame:\n",
    "I explained that the describe() method generates descriptive statistics for numerical columns (like count, mean, standard deviation, etc.) and can optionally summarize categorical data. I provided examples and discussed how it's useful for understanding the structure and distribution of data in a DataFrame.\n",
    "\n",
    "4. Where describe() is Defined and What a Module Is:\n",
    "I clarified that describe() is a method defined in the DataFrame class within the pandas module. Additionally, I explained that a module in Python is a file that contains Python code (functions, classes, etc.) that can be imported and reused. Pandas itself is a module providing various tools for data manipulation.\n"
   ]
  },
  {
   "cell_type": "markdown",
   "id": "13eb723d",
   "metadata": {},
   "source": [
    "### Question 6 "
   ]
  },
  {
   "cell_type": "markdown",
   "id": "e9590712",
   "metadata": {},
   "source": [
    "Definitions of each summary statistic given by <code>df.describe()</code>:\n",
    "    \n",
    "Count ('count'): Number of non-missing values in each column.\n",
    "\n",
    "Mean ('mean'): The arithmetic average, or the sample mean, of each column.\n",
    "\n",
    "Standard Deviation ('std'): The standard deviation, is the square root of sample variance, which is the average squared distance from the sample mean.\n",
    "\n",
    "Minimum ('min'): The minimum value of the column.\n",
    "\n",
    "Maximum ('max'): The maximum value of the column.\n",
    "\n",
    "(Q1, First Quartile) ('25%'): 25% of the data falls below this value.\n",
    "\n",
    "(Q2, Median) ('50%'): 50% of the data falles below this value.\n",
    "\n",
    "(Q3, Third Quartile) ('75%'): 75% of the data falls below this value."
   ]
  },
  {
   "cell_type": "markdown",
   "id": "0b79785b",
   "metadata": {
    "slideshow": {
     "slide_type": "subslide"
    }
   },
   "source": [
    "##### Link to ChatBot Session: https://chatgpt.com/share/59cd0227-15b8-48ca-ad09-7f8248caf8a2\n",
    "\n",
    "##### Summary of ChatBot Session: \n",
    "\n",
    "1. df.describe() Explanation:\n",
    "You asked about the meanings of the statistics returned by df.describe().\n",
    "I provided a detailed explanation of each statistic that df.describe() returns, including:\n",
    "Count: Number of non-null values.\n",
    "Mean: Arithmetic average.\n",
    "Standard deviation (std): Spread of values around the mean.\n",
    "Min, 25%, 50% (median), 75%, and max: Various percentiles and the range of data values.\n",
    "I also provided a brief example of how df.describe() might summarize a dataset.\n",
    "\n",
    "2. Difference Between Standard Deviation and Mean:\n",
    "You requested a more in-depth explanation of the difference between mean and standard deviation.\n",
    "I explained:\n",
    "Mean: A measure of central tendency, calculated as the average of all values.\n",
    "Standard Deviation: A measure of spread, indicating how far values typically deviate from the mean.\n",
    "I included examples to show how two datasets with the same mean can have different spreads (standard deviations) and how that affects their interpretation.\n",
    "The key takeaway is that the mean shows the central value, while the standard deviation shows the variability or spread around that central value."
   ]
  },
  {
   "cell_type": "markdown",
   "id": "338d8b3b",
   "metadata": {},
   "source": [
    "### Question 7"
   ]
  },
  {
   "cell_type": "markdown",
   "id": "384a5e33",
   "metadata": {},
   "source": [
    "1. Provide an example of \"use case\" in which using df.dropna() might be peferred over using del df['col'].\n",
    "\n",
    "<code>del df['col']</code> is used to remove an entire column from a dataset. This is useful if the column is entirely irrelevant to your analysis, and you want to remove it from your dataframe."
   ]
  },
  {
   "cell_type": "code",
   "execution_count": 37,
   "id": "ab07023f",
   "metadata": {},
   "outputs": [],
   "source": [
    "# del df['Cancelled'] # If we don't need the 'Cancelled' column AT ALL!"
   ]
  },
  {
   "cell_type": "markdown",
   "id": "762deda4",
   "metadata": {},
   "source": [
    "<code>df.dropna()</code> is used to specify cetain columns, and remove any rows that contain missing values within those columns. This is useful if columns are relevant to your analysis, but the 'missing-ness' of values in certain columns is causing issues and you want to clean them up."
   ]
  },
  {
   "cell_type": "code",
   "execution_count": 38,
   "id": "e49a4618",
   "metadata": {},
   "outputs": [],
   "source": [
    "# df_clean = df.dropna(subset=['ArrivalTime', 'Delay']) # Missing-values in 'ArrivalTime' and 'Delay' is causing issues."
   ]
  },
  {
   "cell_type": "markdown",
   "id": "2fd53eea",
   "metadata": {},
   "source": [
    "2. Provide an example of \"the opposite use case\" in which using del df['col'] might be preferred over using df.dropna()"
   ]
  },
  {
   "cell_type": "markdown",
   "id": "4d121f3b",
   "metadata": {},
   "source": [
    "(Same explanation as Part 1). <code>del df['col']</code> is used to remove an entire column from a dataset. This is useful if the column is entirely irrelevant to your analysis, and you want to remove it from your dataframe."
   ]
  },
  {
   "cell_type": "markdown",
   "id": "c1d8176b",
   "metadata": {},
   "source": [
    "3. Discuss why applying del df['col'] before df.dropna() when both are used together could be important"
   ]
  },
  {
   "cell_type": "markdown",
   "id": "cd1bfda5",
   "metadata": {},
   "source": [
    "If you call <code>df.dropna()</code> first on a column that you intend to get rid of anyways, you will end up losing rows unnecessarily in the process :(\n",
    "\n",
    "The question to ask FIRST is: \"Which columns do I need?\". Once you have the answer, remove the columns that you don't need. THEN ask: \"In which columns would missing-ness be an issue?\". Call <code>df.dropna()</code> on those respectively."
   ]
  },
  {
   "cell_type": "markdown",
   "id": "997e3fd9",
   "metadata": {},
   "source": [
    "4. Remove all missing data from one of the datasets you're considering using some combination of del df['col'] and/or df.dropna() and give a justification for your approach, including a \"before and after\" report of the results of your approach for your dataset."
   ]
  },
  {
   "cell_type": "markdown",
   "id": "6ac3643a",
   "metadata": {},
   "source": [
    "###### Hypothetical Scenario: I am going to pretend that am I analyzing departure data, and am not interested in anything related to arrivals.\n",
    "\n",
    "Using <code>df.columns.tolist()</code>, I can get a list of the columns."
   ]
  },
  {
   "cell_type": "code",
   "execution_count": 39,
   "id": "187cec68",
   "metadata": {},
   "outputs": [
    {
     "name": "stdout",
     "output_type": "stream",
     "text": [
      "['Year', 'Month', 'DayofMonth', 'DayOfWeek', 'DepTime', 'CRSDepTime', 'ArrTime', 'CRSArrTime', 'UniqueCarrier', 'FlightNum', 'TailNum', 'ActualElapsedTime', 'CRSElapsedTime', 'AirTime', 'ArrDelay', 'DepDelay', 'Origin', 'Dest', 'Distance', 'TaxiIn', 'TaxiOut', 'Cancelled', 'CancellationCode', 'Diverted', 'CarrierDelay', 'WeatherDelay', 'NASDelay', 'SecurityDelay', 'LateAircraftDelay']\n"
     ]
    }
   ],
   "source": [
    "column_names = df.columns.tolist()\n",
    "\n",
    "print(column_names)"
   ]
  },
  {
   "cell_type": "markdown",
   "id": "6ec10042",
   "metadata": {},
   "source": [
    "From the list, I can see that 'ArrTime','CRSArrTime', 'ArrDelay','Dest','TaxiIn' (which refers to the time a plane. spends between its landing time and the moment its engines are shut off), are all irrelavant for my hypothetical analysis.\n",
    "\n",
    "Since I will be comparing my new data with the original, I will create a new copy of the data frame:"
   ]
  },
  {
   "cell_type": "code",
   "execution_count": 40,
   "id": "7ad185ba",
   "metadata": {},
   "outputs": [],
   "source": [
    "df_new = df.copy() # Create new data frame for comparison."
   ]
  },
  {
   "cell_type": "markdown",
   "id": "925b36b9",
   "metadata": {},
   "source": [
    "I will then use <code>del df_new['col']</code> on these to remove them entirely from my new dataframe."
   ]
  },
  {
   "cell_type": "code",
   "execution_count": 41,
   "id": "fe3e6ee9",
   "metadata": {},
   "outputs": [],
   "source": [
    "del df_new['ArrTime']\n",
    "del df_new['CRSArrTime']\n",
    "del df_new['ArrDelay']\n",
    "del df_new['Dest']\n",
    "del df_new['TaxiIn']"
   ]
  },
  {
   "cell_type": "markdown",
   "id": "db7c71bf",
   "metadata": {},
   "source": [
    "Next, to remove all missing values from the remaining columns, I will use <code>df_new.dropna()</code>"
   ]
  },
  {
   "cell_type": "code",
   "execution_count": 42,
   "id": "b2bef175",
   "metadata": {},
   "outputs": [],
   "source": [
    "df_new = df_new.dropna() # Removes all missing values from df_new."
   ]
  },
  {
   "cell_type": "markdown",
   "id": "59b71bae",
   "metadata": {},
   "source": [
    "Here is a before-after comparison between the number of missing values in the dataset."
   ]
  },
  {
   "cell_type": "code",
   "execution_count": 52,
   "id": "f70fb49b",
   "metadata": {},
   "outputs": [
    {
     "name": "stdout",
     "output_type": "stream",
     "text": [
      "Year                     0\n",
      "Month                    0\n",
      "DayofMonth               0\n",
      "DayOfWeek                0\n",
      "DepTime               1142\n",
      "CRSDepTime               0\n",
      "ArrTime               1302\n",
      "CRSArrTime               0\n",
      "UniqueCarrier            0\n",
      "FlightNum                0\n",
      "TailNum               1142\n",
      "ActualElapsedTime     1302\n",
      "CRSElapsedTime           0\n",
      "AirTime               1302\n",
      "ArrDelay              1302\n",
      "DepDelay              1142\n",
      "Origin                   0\n",
      "Dest                     0\n",
      "Distance                 0\n",
      "TaxiIn                1302\n",
      "TaxiOut               1142\n",
      "Cancelled                0\n",
      "CancellationCode     98858\n",
      "Diverted                 0\n",
      "CarrierDelay         80371\n",
      "WeatherDelay         80371\n",
      "NASDelay             80371\n",
      "SecurityDelay        80371\n",
      "LateAircraftDelay    80371\n",
      "dtype: int64\n",
      "Year                 0\n",
      "Month                0\n",
      "DayofMonth           0\n",
      "DayOfWeek            0\n",
      "DepTime              0\n",
      "CRSDepTime           0\n",
      "UniqueCarrier        0\n",
      "FlightNum            0\n",
      "TailNum              0\n",
      "ActualElapsedTime    0\n",
      "CRSElapsedTime       0\n",
      "AirTime              0\n",
      "DepDelay             0\n",
      "Origin               0\n",
      "Distance             0\n",
      "TaxiOut              0\n",
      "Cancelled            0\n",
      "CancellationCode     0\n",
      "Diverted             0\n",
      "CarrierDelay         0\n",
      "WeatherDelay         0\n",
      "NASDelay             0\n",
      "SecurityDelay        0\n",
      "LateAircraftDelay    0\n",
      "dtype: int64\n"
     ]
    }
   ],
   "source": [
    "print(df.isna().sum()) # Returns number of missing values in original data.\n",
    "\n",
    "print(df_new.isna().sum()) # Returns number of missing values after clean-up!"
   ]
  },
  {
   "cell_type": "markdown",
   "id": "c4bd2b88",
   "metadata": {},
   "source": [
    "##### Link to ChatBot Session: https://chatgpt.com/share/5c93bddf-7e4d-41f8-bf06-978e7006aec2\n",
    "\n",
    "##### Summary of ChatBot Session: \n",
    "1. Use Case for df.dropna() vs. del df['col']:\n",
    "We discussed scenarios in which df.dropna() (for removing rows with missing data) might be preferred over del df['col'] (for deleting entire columns).\n",
    "Example: In a flight dataset, if you want to remove rows with missing values only in critical columns like DepartureTime and ArrivalTime, df.dropna() can be used. del df['Cancelled'] would be used to remove irrelevant columns entirely.\n",
    "2. Importance of Using del df['col'] Before df.dropna():\n",
    "Deleting columns with del before applying df.dropna() ensures that missing values in irrelevant columns (which will be deleted) don't unnecessarily cause rows to be dropped. This prevents loss of valuable data from important columns.\n",
    "3. Getting Unique Values from the CancellationCode Column:\n",
    "I explained how to extract unique values from a column using df['CancellationCode'].unique(). You found that the unique values were [nan, 'A', 'C', 'B']:\n",
    "nan: Missing data, indicating flights that were not canceled.\n",
    "'A': Canceled due to carrier issues.\n",
    "'B': Canceled due to weather.\n",
    "'C': Canceled due to air traffic control issues.\n",
    "4. Removing Missing Data with del df['col'] and df.dropna():\n",
    "I provided examples of how to use a combination of del df['col'] to remove unnecessary columns and df.dropna() to remove rows with missing values.\n",
    "Example: You could delete the CancellationCode column and then drop rows with missing ArrivalTime or DepartureTime.\n",
    "5. Getting Column Names of a DataFrame:\n",
    "To list all column names of a DataFrame, I explained how to use df.columns.tolist().\n",
    "6. Explanation of \"Taxi Out\" and \"Taxi In\" in Flight Data:\n",
    "Taxi Out: The time taken for an aircraft to move from the gate to the runway before takeoff.\n",
    "Taxi In: The time taken for an aircraft to move from the runway to the gate after landing.\n",
    "7. Deleting Multiple Columns Using del:\n",
    "You can delete multiple columns one by one using a loop with del in Python.\n",
    "8. Finding the Number of Missing Values in a DataFrame:\n",
    "I showed how to use df.isna().sum() to count the number of missing values for each column, and df.isna().sum().sum() to get the total number of missing values in the entire DataFrame.\n",
    "9. Creating a New DataFrame After Removing Columns:\n",
    "To create a new DataFrame with specific columns removed, you can copy the original DataFrame using df.copy() and then delete columns with del df_new['col']."
   ]
  },
  {
   "cell_type": "markdown",
   "id": "115aada1",
   "metadata": {},
   "source": [
    "### Question 8"
   ]
  },
  {
   "cell_type": "markdown",
   "id": "a8ed1ebe",
   "metadata": {},
   "source": [
    "1. Use your ChatBot session to understand what df.groupby(\"col1\")[\"col2\"].describe() does and then demonstrate and explain this using a different example from the \"titanic\" data set other than what the ChatBot automatically provide for you~"
   ]
  },
  {
   "cell_type": "markdown",
   "id": "2cec97eb",
   "metadata": {},
   "source": [
    "<code>groupby(\"col1\")</code> groups the dataframe by values in \"col1\". Same values in a column are 'grouped', and are placed into new data frame with only other observations of that group."
   ]
  },
  {
   "cell_type": "code",
   "execution_count": 49,
   "id": "1ec46fd7",
   "metadata": {},
   "outputs": [
    {
     "name": "stdout",
     "output_type": "stream",
     "text": [
      "['WN' 'XE']\n"
     ]
    }
   ],
   "source": [
    "who = df[\"UniqueCarrier\"].unique() # Getting a look at what the groups might be.\n",
    "print(who)"
   ]
  },
  {
   "cell_type": "markdown",
   "id": "1b626988",
   "metadata": {},
   "source": [
    "After getting the dataframes of different groups, the <code>[\"col2\"]</code> selects the \"col2\" column."
   ]
  },
  {
   "cell_type": "code",
   "execution_count": 45,
   "id": "d54c0ff2",
   "metadata": {},
   "outputs": [],
   "source": [
    "# df.groupby(\"UniqueCarrier\")[\"ActualElapsedTime\"]..."
   ]
  },
  {
   "cell_type": "markdown",
   "id": "9dda8ff0",
   "metadata": {},
   "source": [
    "Having selected the \"col2\" column, we finally call the <code>df.describe()</code> function to generate summary statistics for each group of \"col2\" values."
   ]
  },
  {
   "cell_type": "code",
   "execution_count": 46,
   "id": "aa22468b",
   "metadata": {},
   "outputs": [
    {
     "data": {
      "text/html": [
       "<div>\n",
       "<style scoped>\n",
       "    .dataframe tbody tr th:only-of-type {\n",
       "        vertical-align: middle;\n",
       "    }\n",
       "\n",
       "    .dataframe tbody tr th {\n",
       "        vertical-align: top;\n",
       "    }\n",
       "\n",
       "    .dataframe thead th {\n",
       "        text-align: right;\n",
       "    }\n",
       "</style>\n",
       "<table border=\"1\" class=\"dataframe\">\n",
       "  <thead>\n",
       "    <tr style=\"text-align: right;\">\n",
       "      <th></th>\n",
       "      <th>count</th>\n",
       "      <th>mean</th>\n",
       "      <th>std</th>\n",
       "      <th>min</th>\n",
       "      <th>25%</th>\n",
       "      <th>50%</th>\n",
       "      <th>75%</th>\n",
       "      <th>max</th>\n",
       "    </tr>\n",
       "    <tr>\n",
       "      <th>UniqueCarrier</th>\n",
       "      <th></th>\n",
       "      <th></th>\n",
       "      <th></th>\n",
       "      <th></th>\n",
       "      <th></th>\n",
       "      <th></th>\n",
       "      <th></th>\n",
       "      <th></th>\n",
       "    </tr>\n",
       "  </thead>\n",
       "  <tbody>\n",
       "    <tr>\n",
       "      <th>WN</th>\n",
       "      <td>92831.0</td>\n",
       "      <td>106.501643</td>\n",
       "      <td>55.797568</td>\n",
       "      <td>25.0</td>\n",
       "      <td>67.0</td>\n",
       "      <td>86.0</td>\n",
       "      <td>133.0</td>\n",
       "      <td>382.0</td>\n",
       "    </tr>\n",
       "    <tr>\n",
       "      <th>XE</th>\n",
       "      <td>5867.0</td>\n",
       "      <td>124.280723</td>\n",
       "      <td>44.512464</td>\n",
       "      <td>37.0</td>\n",
       "      <td>87.0</td>\n",
       "      <td>119.0</td>\n",
       "      <td>156.0</td>\n",
       "      <td>297.0</td>\n",
       "    </tr>\n",
       "  </tbody>\n",
       "</table>\n",
       "</div>"
      ],
      "text/plain": [
       "                 count        mean        std   min   25%    50%    75%    max\n",
       "UniqueCarrier                                                                 \n",
       "WN             92831.0  106.501643  55.797568  25.0  67.0   86.0  133.0  382.0\n",
       "XE              5867.0  124.280723  44.512464  37.0  87.0  119.0  156.0  297.0"
      ]
     },
     "execution_count": 46,
     "metadata": {},
     "output_type": "execute_result"
    }
   ],
   "source": [
    "df.groupby(\"UniqueCarrier\")[\"ActualElapsedTime\"].describe()"
   ]
  },
  {
   "cell_type": "markdown",
   "id": "fdc4b05d",
   "metadata": {},
   "source": [
    "##### Link to ChatBot Session: https://chatgpt.com/share/858d57af-a1b8-4e57-a337-3080a830846f\n",
    "\n",
    "##### Summary of ChatBot Session: \n",
    "1. GroupBy and Descriptive Statistics: \n",
    "We discussed the Python command df.groupby(\"col1\")[\"col2\"].describe(). This command groups data by unique values in column col1 and then generates descriptive statistics for the corresponding col2 values (count, mean, min, max, etc.).\n",
    "2. Understanding Grouping: \n",
    "I explained that grouping splits data into subsets based on values in one or more columns, allowing operations (like sums or averages) to be applied to each group independently.\n",
    "3. Airline Codes: \n",
    "You asked about the airline codes \"WN\" and \"XE\" in unique carrier flight data. I explained that \"WN\" stands for Southwest Airlines, while \"XE\" was used by ExpressJet Airlines, which ceased operations in 2020"
   ]
  },
  {
   "cell_type": "markdown",
   "id": "b1da6efb",
   "metadata": {},
   "source": [
    "2. Assuming you've not yet removed missing values in the manner of question \"7\" above, df.describe() would have different values in the count value for different data columns depending on the missingness present in the original data. Why do these capture something fundamentally different from the values in the count that result from doing something like df.groupby(\"col1\")[\"col2\"].describe()?"
   ]
  },
  {
   "cell_type": "markdown",
   "id": "606657a8",
   "metadata": {},
   "source": [
    "There is a distinction in scope.\n",
    "\n",
    "<code>df.describe()</code> captures a global perspective of the entire data set and 'count' reflects the total number of non-missing values.\n",
    "\n",
    "Something like <code>df.groupby(\"col1\")[\"col2\"].describe()</code> can select specific columns, groups, to analyze, giving a local perspective of specific data within the data frame. The 'count' reflects the total number of non-missing values WITHIN groups."
   ]
  },
  {
   "cell_type": "markdown",
   "id": "1e40a9bd",
   "metadata": {},
   "source": [
    "##### Link to ChatBot Session: https://chatgpt.com/share/858d57af-a1b8-4e57-a337-3080a830846f\n",
    "\n",
    "##### Summary of ChatBot Session: \n",
    "1. Difference in count values between df.describe() and df.groupby(\"col1\")[\"col2\"].describe():\n",
    "df.describe() shows statistics for each column independently, with count representing the number of non-missing values for each column.\n",
    "df.groupby(\"col1\")[\"col2\"].describe() provides statistics within groups defined by col1, where count shows the number of non-missing values in col2 within each group.\n",
    "2. Handling non-numeric data with describe():\n",
    "describe() calculates summary statistics for numeric columns by default, ignoring non-numeric columns unless specified otherwise.\n",
    "When including non-numeric columns (describe(include='all')), the output for numeric columns includes statistics like mean and std, while non-numeric columns display count, unique, top, and freq.\n",
    "3. Behavior with mixed data types:\n",
    "When a DataFrame contains both numeric and non-numeric columns, describe() can summarize each type of column. For numeric columns, it provides statistics such as mean and quartiles. For non-numeric columns, it provides a different set of metrics, such as the most frequent value (top) and its frequency (freq)."
   ]
  },
  {
   "cell_type": "markdown",
   "id": "47a91a3e",
   "metadata": {},
   "source": [
    "3. Intentionally introduce the following errors into your code and report your opinion as to whether it's easier to (a) work in a ChatBot session to fix the errors, or (b) use google to search for and fix errors: first share the errors you get in the ChatBot session and see if you can work with ChatBot to troubleshoot and fix the coding errors, and then see if you think a google search for the error provides the necessary toubleshooting help more quickly than ChatGPT"
   ]
  },
  {
   "cell_type": "markdown",
   "id": "6be41f5b",
   "metadata": {},
   "source": [
    "a) Forget to include import pandas as pd in your code: ChatGPT is Easier --> Simply identifying a missing line of code."
   ]
  },
  {
   "cell_type": "markdown",
   "id": "116915d3",
   "metadata": {},
   "source": [
    "b) Mistype \"titanic.csv\" as \"titanics.csv\": ChatGPT is Easier --> Simply identifying a spelling error."
   ]
  },
  {
   "cell_type": "markdown",
   "id": "4d6f3520",
   "metadata": {},
   "source": [
    "c) Try to use a dataframe before it's been assigned into the variable: ChatGPT is Easier --> Simply identifying a missing variable."
   ]
  },
  {
   "cell_type": "markdown",
   "id": "6067b65d",
   "metadata": {},
   "source": [
    "d) Forget one of the parentheses somewhere the code: ChatGPT is Easier --> Simply identifying a missing parenthesis."
   ]
  },
  {
   "cell_type": "markdown",
   "id": "edf5eb36",
   "metadata": {},
   "source": [
    "e) Mistype one of the names of the chained functions with the code: ChatGPT is Easier --> Simply fixing a typing error."
   ]
  },
  {
   "cell_type": "markdown",
   "id": "54e62a41",
   "metadata": {},
   "source": [
    "f) Use a column name that's not in your data for the groupby and column selection: ChatGPT is Easier --> Simply identifying a missing column or wrongly typed column name."
   ]
  },
  {
   "cell_type": "markdown",
   "id": "9b264f60",
   "metadata": {},
   "source": [
    "g) Forget to put the column name as a string in quotes for the groupby and column selection: Google is Easier --> ChatGPT is unable to identify that the column exists but there was an error in quoting it. ChatGPT thinks that \"col\" is a variable that has yet to be defined."
   ]
  },
  {
   "cell_type": "markdown",
   "id": "4be3bf6a",
   "metadata": {},
   "source": [
    "##### Link to ChatBot Session: https://chatgpt.com/share/a48590ca-def5-4ecc-a1bd-87a86a867771\n",
    "\n",
    "##### Summary of ChatBot Session: \n",
    "1. Typo in Pandas Code: \n",
    "We discussed two common typos in Pandas:\n",
    "Using group_by instead of groupby, which raises an AttributeError because group_by doesn’t exist.\n",
    "Using describle instead of describe, also raising an AttributeError.\n",
    "2. Unterminated String Literal: \n",
    "You encountered a SyntaxError: unterminated string literal, caused by missing closing quotes in a string or attempting to split a string across multiple lines without proper syntax. We resolved this by ensuring all quotes are closed or using triple quotes for multi-line strings.\n",
    "3. NameError for Undefined Variable: \n",
    "You faced a NameError: name 'ActualElapsedTime' is not defined. This error is typically caused by using a variable before it's defined, a typo, or accessing the variable outside its scope. We resolved this by ensuring proper definition and correct scope for the variable.\n",
    "\n",
    "(Note that many errors were encoutered during previous questions so didn't ask ChatGPT again)."
   ]
  },
  {
   "cell_type": "markdown",
   "id": "15c4de2e",
   "metadata": {},
   "source": [
    "### Question 9"
   ]
  },
  {
   "cell_type": "code",
   "execution_count": 47,
   "id": "5e57e7b4",
   "metadata": {},
   "outputs": [
    {
     "name": "stdout",
     "output_type": "stream",
     "text": [
      "Yes\n"
     ]
    }
   ],
   "source": [
    "print(\"Yes\")"
   ]
  },
  {
   "cell_type": "markdown",
   "id": "8e70253f",
   "metadata": {},
   "source": [
    "All summaries were retrieved with: \"Please provide a summary of our exchanges here so I can submit them as a record of our interactions as part of a homework assignment\" ^_^"
   ]
  }
 ],
 "metadata": {
  "kernelspec": {
   "display_name": "Python 3 (ipykernel)",
   "language": "python",
   "name": "python3"
  },
  "language_info": {
   "codemirror_mode": {
    "name": "ipython",
    "version": 3
   },
   "file_extension": ".py",
   "mimetype": "text/x-python",
   "name": "python",
   "nbconvert_exporter": "python",
   "pygments_lexer": "ipython3",
   "version": "3.11.6"
  }
 },
 "nbformat": 4,
 "nbformat_minor": 5
}
